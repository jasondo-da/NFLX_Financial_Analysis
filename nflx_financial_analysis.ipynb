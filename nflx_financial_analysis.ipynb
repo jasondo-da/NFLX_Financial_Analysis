{
 "cells": [
  {
   "cell_type": "markdown",
   "metadata": {},
   "source": [
    "# Netflix (NFLX) Financial Analysis\n",
    "\n",
    "## Table of Contents <a id='back'></a>\n",
    "- [Project Introduction](#project-introduction)\n",
    "    - [Analysis Outline](#analysis-outline)\n",
    "    - [Results](#results)\n",
    "- [Importing Libraries and Opening Data Files](#importing-libraries-and-opening-data-files)\n",
    "- [Pre-Processing Data](#pre-processing-data)\n",
    "    - [Duplicates](#duplicates)\n",
    "    - [Missing Values](#missing-values)\n",
    "    - [Removing Irrelevant Data](#removing-irrelevant-data)\n",
    "    - [Data Wrangling](#data-wrangling)\n",
    "        - [Cleaning Headers](#cleaning-headers)\n",
    "        - [Cleaning Column Elements](#cleaning-column-elements)\n",
    "- [Exploratory Data Analysis](#exploratory-data-analysis)\n",
    "- [Conclusions and Reccomendations](#conclusions-and-reccomendations)\n",
    "- [Dataset Citation](#dataset-citation)"
   ]
  },
  {
   "cell_type": "markdown",
   "metadata": {},
   "source": [
    "## Project Introduction\n",
    "\n",
    "This project will be a vertical analysis of the Netflix's year over year financial data under ticker symbol NFLX. First, I will web scrape the public financial data from using the yfinance API. Then I will preprocess and clean the scraped public data and turn it into a structured data source to be ready for analysis. Lastly, I will analyze the financial stock data to calculate the financial KPIs for potential shareholders. \n",
    "\n",
    "##### Disclaimer: This is NOT financial advice in any form, and is strictly for educational purposes ONLY. \n",
    "\n",
    "### Analysis Outline\n",
    "\n",
    "[Analysis Outline]\n",
    "\n",
    "### Results\n",
    "\n",
    "[Results]\n"
   ]
  },
  {
   "cell_type": "markdown",
   "metadata": {},
   "source": [
    "[Back to Table of Contents](#back)"
   ]
  },
  {
   "cell_type": "markdown",
   "metadata": {},
   "source": [
    "## Importing Libraries & Financial Data"
   ]
  },
  {
   "cell_type": "code",
   "execution_count": 1,
   "metadata": {},
   "outputs": [],
   "source": [
    "# Importing the needed libraries for this assignment\n",
    "import pandas as pd\n",
    "import numpy as np\n",
    "import yfinance as yf\n",
    "from matplotlib import pyplot as plt\n",
    "import seaborn as sns"
   ]
  },
  {
   "cell_type": "code",
   "execution_count": null,
   "metadata": {},
   "outputs": [],
   "source": [
    "# Scraping the financial data using yfinance by inputting ticker symbol\n",
    "netflix_df = yf.Ticker('NFLX')\n",
    "\n",
    "# Creating loop to display the data\n",
    "for key, value in netflix_df.info.items():\n",
    "    print(f'{key}: {value}')"
   ]
  },
  {
   "cell_type": "code",
   "execution_count": null,
   "metadata": {},
   "outputs": [],
   "source": [
    "income_statement = netflix_df.income_stmt\n",
    "income_statement.info()\n",
    "income_statement.head()"
   ]
  },
  {
   "cell_type": "code",
   "execution_count": null,
   "metadata": {},
   "outputs": [],
   "source": [
    "income_statement = income_statement.T\n",
    "income_statement.info()\n",
    "income_statement.head()"
   ]
  },
  {
   "cell_type": "markdown",
   "metadata": {},
   "source": [
    "Profitability KPIs, such as gross profit margin and net profit margin.\n",
    "\n",
    "Liquidity KPIs, such as current ratio and quick ratio.\n",
    "\n",
    "Efficiency KPIs, such as inventory turnover and accounts receivable turnover.\n",
    "\n",
    "Valuation KPIs, such as earnings per share and price to earnings ratio.\n",
    "\n",
    "Leverage KPIs, such as debt to equity and return on equity."
   ]
  },
  {
   "cell_type": "markdown",
   "metadata": {},
   "source": [
    "[Back to Table of Contents](#back)"
   ]
  },
  {
   "cell_type": "markdown",
   "metadata": {},
   "source": [
    "## Pre-Processing Data"
   ]
  },
  {
   "cell_type": "code",
   "execution_count": null,
   "metadata": {},
   "outputs": [],
   "source": [
    "pd.set_option('display.max_columns', None)\n",
    "income_statement.info()\n",
    "income_statement.head()"
   ]
  },
  {
   "cell_type": "markdown",
   "metadata": {},
   "source": [
    "### Duplicates"
   ]
  },
  {
   "cell_type": "code",
   "execution_count": null,
   "metadata": {},
   "outputs": [],
   "source": [
    "# Checking for duplicates\n",
    "income_statement.duplicated().sum()"
   ]
  },
  {
   "cell_type": "markdown",
   "metadata": {},
   "source": [
    "[Back to Table of Contents](#back)"
   ]
  },
  {
   "cell_type": "markdown",
   "metadata": {},
   "source": [
    "### Missing Values"
   ]
  },
  {
   "cell_type": "code",
   "execution_count": null,
   "metadata": {},
   "outputs": [],
   "source": [
    "# Checking for null values\n",
    "income_statement.isna().sum()"
   ]
  },
  {
   "cell_type": "code",
   "execution_count": null,
   "metadata": {},
   "outputs": [],
   "source": [
    "print(income_statement['Interest Income'])\n",
    "print(income_statement['Interest Income Non Operating'])"
   ]
  },
  {
   "cell_type": "code",
   "execution_count": null,
   "metadata": {},
   "outputs": [],
   "source": [
    "# Filling in null values from specified columns\n",
    "columns_to_replace = ['Interest Income', 'Interest Income Non Operating']\n",
    "\n",
    "for column in columns_to_replace: \n",
    "    income_statement[column] = income_statement[column].fillna('0')\n",
    "\n",
    "# Checking for null values\n",
    "income_statement.isna().sum()"
   ]
  },
  {
   "cell_type": "markdown",
   "metadata": {},
   "source": [
    "[Back to Table of Contents](#back)"
   ]
  },
  {
   "cell_type": "markdown",
   "metadata": {},
   "source": [
    "### Removing Irrelevant Data"
   ]
  },
  {
   "cell_type": "code",
   "execution_count": null,
   "metadata": {},
   "outputs": [],
   "source": [
    "# Removing columns we do not need for this analysis\n",
    "# df = df.drop(columns=['unnamed_0.01', 'unnamed_0'])\n",
    "# df.info()"
   ]
  },
  {
   "cell_type": "markdown",
   "metadata": {},
   "source": [
    "[Back to Table of Contents](#back)"
   ]
  },
  {
   "cell_type": "markdown",
   "metadata": {},
   "source": [
    "### Data Wrangling"
   ]
  },
  {
   "cell_type": "markdown",
   "metadata": {},
   "source": [
    "#### Cleaning Headers"
   ]
  },
  {
   "cell_type": "code",
   "execution_count": null,
   "metadata": {},
   "outputs": [],
   "source": [
    "# Getting general information about the dataset\n",
    "income_statement.info()\n",
    "income_statement.head()"
   ]
  },
  {
   "cell_type": "markdown",
   "metadata": {},
   "source": [
    "[Back to Table of Contents](#back)"
   ]
  },
  {
   "cell_type": "markdown",
   "metadata": {},
   "source": [
    "#### Cleaning Column Elements"
   ]
  },
  {
   "cell_type": "code",
   "execution_count": null,
   "metadata": {},
   "outputs": [],
   "source": [
    "for column in income_statement: \n",
    "    income_statement[column] = income_statement[column].astype(float)\n",
    "\n",
    "\n",
    "income_statement = income_statement.T\n",
    "\n",
    "# To display values at integers rather than in scientific notation\n",
    "pd.set_option('display.float_format', str)\n",
    "\n",
    "# Getting general information about the dataset\n",
    "income_statement.info()\n",
    "income_statement"
   ]
  },
  {
   "cell_type": "code",
   "execution_count": null,
   "metadata": {},
   "outputs": [],
   "source": [
    "is_24 = income_statement.iloc[:, 0:1]\n",
    "is_23 = income_statement.iloc[:, 1:2]\n",
    "is_22 = income_statement.iloc[:, 2:3]\n",
    "is_21 = income_statement.iloc[:, 3:4]"
   ]
  },
  {
   "cell_type": "code",
   "execution_count": null,
   "metadata": {},
   "outputs": [],
   "source": [
    "def fix_24(value):\n",
    "    if (value > 999):\n",
    "        return (value / is_24['2024-12-31'].max())\n",
    "    elif value < 0:\n",
    "        return -(abs(value) / is_24['2024-12-31'].max())\n",
    "    else:\n",
    "        return value\n",
    "    \n",
    "def fix_23(value):\n",
    "    if (value > 999):\n",
    "        return (value / is_23['2023-12-31'].max())\n",
    "    elif value < 0:\n",
    "        return -(abs(value) / is_23['2023-12-31'].max())\n",
    "    else:\n",
    "        return value\n",
    "\n",
    "def fix_22(value):\n",
    "    if (value > 999):\n",
    "        return (value / is_22['2022-12-31'].max())\n",
    "    elif value < 0:\n",
    "        return -(abs(value) / is_22['2022-12-31'].max())\n",
    "    else:\n",
    "        return value\n",
    "    \n",
    "def fix_21(value):\n",
    "    if (value > 999):\n",
    "        return (value / is_21['2021-12-31'].max())\n",
    "    elif value < 0:\n",
    "        return -(abs(value) / is_21['2021-12-31'].max())\n",
    "    else:\n",
    "        return value"
   ]
  },
  {
   "cell_type": "code",
   "execution_count": null,
   "metadata": {},
   "outputs": [],
   "source": [
    "is_24['%_of_revenue_24'] = is_24['2024-12-31'].apply(fix_24).round(2)\n",
    "is_23['%_of_revenue_23'] = is_23['2023-12-31'].apply(fix_23).round(2)\n",
    "is_22['%_of_revenue_22'] = is_22['2022-12-31'].apply(fix_22).round(2)\n",
    "is_21['%_of_revenue_21'] = is_21['2021-12-31'].apply(fix_21).round(2)"
   ]
  },
  {
   "cell_type": "code",
   "execution_count": null,
   "metadata": {},
   "outputs": [],
   "source": [
    "is_24"
   ]
  },
  {
   "cell_type": "markdown",
   "metadata": {},
   "source": [
    "[Back to Table of Contents](#back)"
   ]
  },
  {
   "cell_type": "markdown",
   "metadata": {},
   "source": [
    "## Exploratory Data Analysis"
   ]
  },
  {
   "cell_type": "code",
   "execution_count": null,
   "metadata": {},
   "outputs": [],
   "source": []
  },
  {
   "cell_type": "markdown",
   "metadata": {},
   "source": [
    "Observation:\n",
    "\n",
    "- "
   ]
  },
  {
   "cell_type": "markdown",
   "metadata": {},
   "source": [
    "[Back to Table of Contents](#back)"
   ]
  },
  {
   "cell_type": "markdown",
   "metadata": {},
   "source": [
    "## Conclusions and Reccomendations"
   ]
  },
  {
   "cell_type": "markdown",
   "metadata": {},
   "source": [
    "[Back to Table of Contents](#back)"
   ]
  },
  {
   "cell_type": "markdown",
   "metadata": {},
   "source": [
    "## Dataset Citation\n",
    "\n",
    "syntax:\n",
    "[Dataset creator's name]. ([Year &amp; Month of dataset creation]). [Name of the dataset], [Version of the dataset]. Retrieved [Date Retrieved] from [Kaggle](URL of the dataset).\n",
    "\n",
    "example:\n",
    "Tatman, R. (2017, November). R vs. Python: The Kitchen Gadget Test, Version 1. Retrieved December 20, 2017 from https://www.kaggle.com/rtatman/r-vs-python-the-kitchen-gadget-test."
   ]
  },
  {
   "cell_type": "markdown",
   "metadata": {},
   "source": [
    "[Back to Table of Contents](#back)"
   ]
  }
 ],
 "metadata": {
  "kernelspec": {
   "display_name": "base",
   "language": "python",
   "name": "python3"
  },
  "language_info": {
   "codemirror_mode": {
    "name": "ipython",
    "version": 3
   },
   "file_extension": ".py",
   "mimetype": "text/x-python",
   "name": "python",
   "nbconvert_exporter": "python",
   "pygments_lexer": "ipython3",
   "version": "3.12.7"
  },
  "orig_nbformat": 4
 },
 "nbformat": 4,
 "nbformat_minor": 2
}
