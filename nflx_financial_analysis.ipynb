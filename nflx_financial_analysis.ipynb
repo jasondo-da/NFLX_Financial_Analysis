{
 "cells": [
  {
   "cell_type": "markdown",
   "metadata": {},
   "source": [
    "# Netflix (NFLX) Financial Analysis\n",
    "\n",
    "## Table of Contents <a id='back'></a>\n",
    "- [Project Introduction](#project-introduction)\n",
    "    - [Analysis Outline](#analysis-outline)\n",
    "    - [Results](#results)\n",
    "- [Importing Libraries and Opening Data Files](#importing-libraries-and-opening-data-files)\n",
    "- [Pre-Processing Data](#pre-processing-data)\n",
    "    - [Duplicates](#duplicates)\n",
    "    - [Missing Values](#missing-values)\n",
    "    - [Removing Irrelevant Data](#removing-irrelevant-data)\n",
    "    - [Data Wrangling](#data-wrangling)\n",
    "        - [Cleaning Headers](#cleaning-headers)\n",
    "        - [Cleaning Column Elements](#cleaning-column-elements)\n",
    "- [Exploratory Data Analysis](#exploratory-data-analysis)\n",
    "- [Conclusions and Reccomendations](#conclusions-and-reccomendations)\n",
    "- [Dataset Citation](#dataset-citation)"
   ]
  },
  {
   "cell_type": "markdown",
   "metadata": {},
   "source": [
    "## Project Introduction\n",
    "\n",
    "This project will be a vertical analysis of the Netflix's year over year financial data under ticker symbol NFLX. First, I will web scrape the public financial data from using the yfinance API. Then I will preprocess and clean the scraped public data and turn it into a structured data source to be ready for analysis. Lastly, I will analyze the financial stock data to calculate the financial KPIs for potential shareholders. \n",
    "\n",
    "##### Disclaimer: This is NOT financial advice in any form, and is strictly for educational purposes ONLY. \n",
    "\n",
    "### Analysis Outline\n",
    "\n",
    "[Analysis Outline]\n",
    "\n",
    "### Results\n",
    "\n",
    "[Results]\n"
   ]
  },
  {
   "cell_type": "markdown",
   "metadata": {},
   "source": [
    "[Back to Table of Contents](#back)"
   ]
  },
  {
   "cell_type": "markdown",
   "metadata": {},
   "source": [
    "## Importing Libraries & Financial Data"
   ]
  },
  {
   "cell_type": "code",
   "execution_count": null,
   "metadata": {},
   "outputs": [],
   "source": [
    "# Importing the needed libraries for this assignment\n",
    "import pandas as pd\n",
    "import numpy as np\n",
    "import yfinance as yf\n",
    "from matplotlib import pyplot as plt\n",
    "import seaborn as sns"
   ]
  },
  {
   "cell_type": "code",
   "execution_count": null,
   "metadata": {},
   "outputs": [],
   "source": [
    "# Scraping the financial data using yfinance by inputting ticker symbol\n",
    "netflix_df = yf.Ticker('NFLX')\n",
    "\n",
    "# Creating loop to display the data\n",
    "for key, value in netflix_df.info.items():\n",
    "    print(f'{key}: {value}')"
   ]
  },
  {
   "cell_type": "code",
   "execution_count": null,
   "metadata": {},
   "outputs": [],
   "source": [
    "income_statement = netflix_df.income_stmt\n",
    "income_statement.info()\n",
    "income_statement.head()"
   ]
  },
  {
   "cell_type": "code",
   "execution_count": null,
   "metadata": {},
   "outputs": [],
   "source": [
    "income_statement = income_statement.T\n",
    "income_statement.info()\n",
    "income_statement.head()"
   ]
  },
  {
   "cell_type": "markdown",
   "metadata": {},
   "source": [
    "Profitability KPIs, such as gross profit margin and net profit margin.\n",
    "\n",
    "Liquidity KPIs, such as current ratio and quick ratio.\n",
    "\n",
    "Efficiency KPIs, such as inventory turnover and accounts receivable turnover.\n",
    "\n",
    "Valuation KPIs, such as earnings per share and price to earnings ratio.\n",
    "\n",
    "Leverage KPIs, such as debt to equity and return on equity."
   ]
  },
  {
   "cell_type": "markdown",
   "metadata": {},
   "source": [
    "[Back to Table of Contents](#back)"
   ]
  },
  {
   "cell_type": "markdown",
   "metadata": {},
   "source": [
    "## Pre-Processing Data"
   ]
  },
  {
   "cell_type": "code",
   "execution_count": null,
   "metadata": {},
   "outputs": [],
   "source": [
    "pd.set_option('display.max_columns', None)\n",
    "income_statement.info()\n",
    "income_statement.head()"
   ]
  },
  {
   "cell_type": "markdown",
   "metadata": {},
   "source": [
    "### Duplicates"
   ]
  },
  {
   "cell_type": "code",
   "execution_count": null,
   "metadata": {},
   "outputs": [],
   "source": [
    "# Checking for duplicates\n",
    "income_statement.duplicated().sum()"
   ]
  },
  {
   "cell_type": "markdown",
   "metadata": {},
   "source": [
    "[Back to Table of Contents](#back)"
   ]
  },
  {
   "cell_type": "markdown",
   "metadata": {},
   "source": [
    "### Missing Values"
   ]
  },
  {
   "cell_type": "code",
   "execution_count": null,
   "metadata": {},
   "outputs": [],
   "source": [
    "# Checking for null values\n",
    "income_statement.isna().sum()"
   ]
  },
  {
   "cell_type": "code",
   "execution_count": null,
   "metadata": {},
   "outputs": [],
   "source": [
    "print(income_statement['Interest Income'])\n",
    "print(income_statement['Interest Income Non Operating'])"
   ]
  },
  {
   "cell_type": "code",
   "execution_count": null,
   "metadata": {},
   "outputs": [],
   "source": [
    "# Filling in null values from specified columns\n",
    "columns_to_replace = ['Interest Income', 'Interest Income Non Operating']\n",
    "\n",
    "for column in columns_to_replace: \n",
    "    income_statement[column] = income_statement[column].fillna('0')\n",
    "\n",
    "# Checking for null values\n",
    "income_statement.isna().sum()"
   ]
  },
  {
   "cell_type": "markdown",
   "metadata": {},
   "source": [
    "[Back to Table of Contents](#back)"
   ]
  },
  {
   "cell_type": "markdown",
   "metadata": {},
   "source": [
    "### Removing Irrelevant Data"
   ]
  },
  {
   "cell_type": "code",
   "execution_count": null,
   "metadata": {},
   "outputs": [],
   "source": [
    "# Removing columns we do not need for this analysis\n",
    "# df = df.drop(columns=['unnamed_0.01', 'unnamed_0'])\n",
    "# df.info()"
   ]
  },
  {
   "cell_type": "markdown",
   "metadata": {},
   "source": [
    "[Back to Table of Contents](#back)"
   ]
  },
  {
   "cell_type": "markdown",
   "metadata": {},
   "source": [
    "### Data Wrangling"
   ]
  },
  {
   "cell_type": "markdown",
   "metadata": {},
   "source": [
    "#### Cleaning Headers"
   ]
  },
  {
   "cell_type": "code",
   "execution_count": null,
   "metadata": {},
   "outputs": [],
   "source": [
    "# Getting general information about the dataset\n",
    "income_statement.info()\n",
    "income_statement.head()"
   ]
  },
  {
   "cell_type": "code",
   "execution_count": null,
   "metadata": {},
   "outputs": [],
   "source": [
    "#checking for snakecase format\n",
    "income_statement.columns"
   ]
  },
  {
   "cell_type": "markdown",
   "metadata": {},
   "source": [
    "[Back to Table of Contents](#back)"
   ]
  },
  {
   "cell_type": "markdown",
   "metadata": {},
   "source": [
    "#### Cleaning Column Elements"
   ]
  },
  {
   "cell_type": "code",
   "execution_count": null,
   "metadata": {},
   "outputs": [],
   "source": [
    "columns_to_int = ['Normalized EBITDA', 'Net Income From Continuing Operation Net Minority Interest',\n",
    "                  'Reconciled Depreciation', 'Reconciled Cost Of Revenue', 'EBITDA','EBIT',\n",
    "                  'Net Interest Income', 'Interest Expense', 'Interest Income','Normalized Income',\n",
    "                  'Net Income From Continuing And Discontinued Operation', 'Total Expenses', \n",
    "                  'Total Operating Income As Reported', 'Diluted Average Shares', 'Basic Average Shares',\n",
    "                  'Diluted NI Availto Com Stockholders', 'Net Income Common Stockholders', 'Net Income',\n",
    "                  'Net Income Including Noncontrolling Interests', 'Net Income Continuous Operations',\n",
    "                  'Tax Provision', 'Pretax Income', 'Net Non Operating Interest Income Expense',\n",
    "                  'Interest Expense Non Operating', 'Interest Income Non Operating', 'Operating Income',\n",
    "                  'Operating Expense', 'Research And Development', 'Selling General And Administration',\n",
    "                  'Selling And Marketing Expense', 'General And Administrative Expense', 'Other Gand A',\n",
    "                  'Gross Profit', 'Cost Of Revenue', 'Total Revenue', 'Operating Revenue']\n",
    "\n",
    "columns_to_float = ['Tax Effect Of Unusual Items', 'Tax Rate For Calcs', 'Diluted EPS', 'Basic EPS']\n",
    "\n",
    "for column in columns_to_float: \n",
    "    income_statement[column] = income_statement[column].astype(float)\n",
    "\n",
    "for column in columns_to_int: \n",
    "    income_statement[column] = income_statement[column].astype('int64')\n",
    "\n",
    "# Getting general information about the dataset\n",
    "income_statement.info()\n",
    "income_statement.head()\n"
   ]
  },
  {
   "cell_type": "code",
   "execution_count": null,
   "metadata": {},
   "outputs": [],
   "source": [
    "# \n",
    "income_statement = income_statement.T\n",
    "\n",
    "#\n",
    "\n",
    "# Getting general information about the dataset\n",
    "income_statement.info()\n",
    "income_statement.head()"
   ]
  },
  {
   "cell_type": "markdown",
   "metadata": {},
   "source": [
    "[Back to Table of Contents](#back)"
   ]
  },
  {
   "cell_type": "markdown",
   "metadata": {},
   "source": [
    "## Exploratory Data Analysis"
   ]
  },
  {
   "cell_type": "code",
   "execution_count": null,
   "metadata": {},
   "outputs": [],
   "source": []
  },
  {
   "cell_type": "markdown",
   "metadata": {},
   "source": [
    "Observation:\n",
    "\n",
    "- "
   ]
  },
  {
   "cell_type": "markdown",
   "metadata": {},
   "source": [
    "[Back to Table of Contents](#back)"
   ]
  },
  {
   "cell_type": "markdown",
   "metadata": {},
   "source": [
    "## Conclusions and Reccomendations"
   ]
  },
  {
   "cell_type": "markdown",
   "metadata": {},
   "source": [
    "[Back to Table of Contents](#back)"
   ]
  },
  {
   "cell_type": "markdown",
   "metadata": {},
   "source": [
    "## Dataset Citation\n",
    "\n",
    "syntax:\n",
    "[Dataset creator's name]. ([Year &amp; Month of dataset creation]). [Name of the dataset], [Version of the dataset]. Retrieved [Date Retrieved] from [Kaggle](URL of the dataset).\n",
    "\n",
    "example:\n",
    "Tatman, R. (2017, November). R vs. Python: The Kitchen Gadget Test, Version 1. Retrieved December 20, 2017 from https://www.kaggle.com/rtatman/r-vs-python-the-kitchen-gadget-test."
   ]
  },
  {
   "cell_type": "markdown",
   "metadata": {},
   "source": [
    "[Back to Table of Contents](#back)"
   ]
  }
 ],
 "metadata": {
  "kernelspec": {
   "display_name": "base",
   "language": "python",
   "name": "python3"
  },
  "language_info": {
   "codemirror_mode": {
    "name": "ipython",
    "version": 3
   },
   "file_extension": ".py",
   "mimetype": "text/x-python",
   "name": "python",
   "nbconvert_exporter": "python",
   "pygments_lexer": "ipython3",
   "version": "3.12.7"
  },
  "orig_nbformat": 4
 },
 "nbformat": 4,
 "nbformat_minor": 2
}
